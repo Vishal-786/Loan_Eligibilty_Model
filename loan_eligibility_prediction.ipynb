{
 "cells": [
  {
   "cell_type": "code",
   "execution_count": 1,
   "id": "0bbf36ec",
   "metadata": {
    "_cell_guid": "b1076dfc-b9ad-4769-8c92-a6c4dae69d19",
    "_uuid": "8f2839f25d086af736a60e9eeb907d3b93b6e0e5",
    "execution": {
     "iopub.execute_input": "2024-12-09T18:09:05.508391Z",
     "iopub.status.busy": "2024-12-09T18:09:05.507767Z",
     "iopub.status.idle": "2024-12-09T18:09:08.560115Z",
     "shell.execute_reply": "2024-12-09T18:09:08.558682Z"
    },
    "papermill": {
     "duration": 3.068914,
     "end_time": "2024-12-09T18:09:08.562652",
     "exception": false,
     "start_time": "2024-12-09T18:09:05.493738",
     "status": "completed"
    },
    "tags": []
   },
   "outputs": [
    {
     "name": "stdout",
     "output_type": "stream",
     "text": [
      "/kaggle/input/loan-approval-prediction-dataset/loan_approval_dataset.csv\n"
     ]
    }
   ],
   "source": [
    "# This Python 3 environment comes with many helpful analytics libraries installed\n",
    "# It is defined by the kaggle/python Docker image: https://github.com/kaggle/docker-python\n",
    "# For example, here's several helpful packages to load\n",
    "\n",
    "import numpy as np # linear algebra\n",
    "import pandas as pd # data processing, CSV file I/O (e.g. pd.read_csv)\n",
    "\n",
    "import seaborn as sns\n",
    "import matplotlib.pyplot as plt\n",
    "\n",
    "import warnings\n",
    "warnings.filterwarnings('ignore')\n",
    "\n",
    "# Input data files are available in the read-only \"../input/\" directory\n",
    "# For example, running this (by clicking run or pressing Shift+Enter) will list all files under the input directory\n",
    "\n",
    "import os\n",
    "for dirname, _, filenames in os.walk('/kaggle/input'):\n",
    "    for filename in filenames:\n",
    "        print(os.path.join(dirname, filename))\n",
    "\n",
    "# You can write up to 20GB to the current directory (/kaggle/working/) that gets preserved as output when you create a version using \"Save & Run All\" \n",
    "# You can also write temporary files to /kaggle/temp/, but they won't be saved outside of the current session"
   ]
  },
  {
   "cell_type": "markdown",
   "id": "e1954787",
   "metadata": {
    "papermill": {
     "duration": 0.011289,
     "end_time": "2024-12-09T18:09:08.586434",
     "exception": false,
     "start_time": "2024-12-09T18:09:08.575145",
     "status": "completed"
    },
    "tags": []
   },
   "source": [
    "# Load The Dataset"
   ]
  },
  {
   "cell_type": "markdown",
   "id": "66a5e2af",
   "metadata": {
    "papermill": {
     "duration": 0.00978,
     "end_time": "2024-12-09T18:09:08.606567",
     "exception": false,
     "start_time": "2024-12-09T18:09:08.596787",
     "status": "completed"
    },
    "tags": []
   },
   "source": [
    "### Data Set Overview\r\n",
    "The loan approval dataset is a collection of financial records and associated information used to determine the eligibility of individuals or organizations for obtaining loans from a lending institution. It includes various factors such as cibil score, income, employment status, loan term, loan amount, assets value, and loan status. This dataset is commonly used in machine learning and data analysis to develop models and algorithms that predict the likelihood of loan approval based on the given features.                |"
   ]
  },
  {
   "cell_type": "code",
   "execution_count": 2,
   "id": "7a3e3f2e",
   "metadata": {
    "execution": {
     "iopub.execute_input": "2024-12-09T18:09:08.629861Z",
     "iopub.status.busy": "2024-12-09T18:09:08.629200Z",
     "iopub.status.idle": "2024-12-09T18:09:08.668079Z",
     "shell.execute_reply": "2024-12-09T18:09:08.666639Z"
    },
    "papermill": {
     "duration": 0.053772,
     "end_time": "2024-12-09T18:09:08.671039",
     "exception": false,
     "start_time": "2024-12-09T18:09:08.617267",
     "status": "completed"
    },
    "tags": []
   },
   "outputs": [],
   "source": [
    "data = pd.read_csv('/kaggle/input/loan-approval-prediction-dataset/loan_approval_dataset.csv')"
   ]
  },
  {
   "cell_type": "code",
   "execution_count": 3,
   "id": "0f8e93bd",
   "metadata": {
    "execution": {
     "iopub.execute_input": "2024-12-09T18:09:08.693550Z",
     "iopub.status.busy": "2024-12-09T18:09:08.693158Z",
     "iopub.status.idle": "2024-12-09T18:09:08.720658Z",
     "shell.execute_reply": "2024-12-09T18:09:08.719201Z"
    },
    "papermill": {
     "duration": 0.041936,
     "end_time": "2024-12-09T18:09:08.723452",
     "exception": false,
     "start_time": "2024-12-09T18:09:08.681516",
     "status": "completed"
    },
    "tags": []
   },
   "outputs": [
    {
     "data": {
      "text/html": [
       "<div>\n",
       "<style scoped>\n",
       "    .dataframe tbody tr th:only-of-type {\n",
       "        vertical-align: middle;\n",
       "    }\n",
       "\n",
       "    .dataframe tbody tr th {\n",
       "        vertical-align: top;\n",
       "    }\n",
       "\n",
       "    .dataframe thead th {\n",
       "        text-align: right;\n",
       "    }\n",
       "</style>\n",
       "<table border=\"1\" class=\"dataframe\">\n",
       "  <thead>\n",
       "    <tr style=\"text-align: right;\">\n",
       "      <th></th>\n",
       "      <th>loan_id</th>\n",
       "      <th>no_of_dependents</th>\n",
       "      <th>education</th>\n",
       "      <th>self_employed</th>\n",
       "      <th>income_annum</th>\n",
       "      <th>loan_amount</th>\n",
       "      <th>loan_term</th>\n",
       "      <th>cibil_score</th>\n",
       "      <th>residential_assets_value</th>\n",
       "      <th>commercial_assets_value</th>\n",
       "      <th>luxury_assets_value</th>\n",
       "      <th>bank_asset_value</th>\n",
       "      <th>loan_status</th>\n",
       "    </tr>\n",
       "  </thead>\n",
       "  <tbody>\n",
       "    <tr>\n",
       "      <th>0</th>\n",
       "      <td>1</td>\n",
       "      <td>2</td>\n",
       "      <td>Graduate</td>\n",
       "      <td>No</td>\n",
       "      <td>9600000</td>\n",
       "      <td>29900000</td>\n",
       "      <td>12</td>\n",
       "      <td>778</td>\n",
       "      <td>2400000</td>\n",
       "      <td>17600000</td>\n",
       "      <td>22700000</td>\n",
       "      <td>8000000</td>\n",
       "      <td>Approved</td>\n",
       "    </tr>\n",
       "    <tr>\n",
       "      <th>1</th>\n",
       "      <td>2</td>\n",
       "      <td>0</td>\n",
       "      <td>Not Graduate</td>\n",
       "      <td>Yes</td>\n",
       "      <td>4100000</td>\n",
       "      <td>12200000</td>\n",
       "      <td>8</td>\n",
       "      <td>417</td>\n",
       "      <td>2700000</td>\n",
       "      <td>2200000</td>\n",
       "      <td>8800000</td>\n",
       "      <td>3300000</td>\n",
       "      <td>Rejected</td>\n",
       "    </tr>\n",
       "    <tr>\n",
       "      <th>2</th>\n",
       "      <td>3</td>\n",
       "      <td>3</td>\n",
       "      <td>Graduate</td>\n",
       "      <td>No</td>\n",
       "      <td>9100000</td>\n",
       "      <td>29700000</td>\n",
       "      <td>20</td>\n",
       "      <td>506</td>\n",
       "      <td>7100000</td>\n",
       "      <td>4500000</td>\n",
       "      <td>33300000</td>\n",
       "      <td>12800000</td>\n",
       "      <td>Rejected</td>\n",
       "    </tr>\n",
       "    <tr>\n",
       "      <th>3</th>\n",
       "      <td>4</td>\n",
       "      <td>3</td>\n",
       "      <td>Graduate</td>\n",
       "      <td>No</td>\n",
       "      <td>8200000</td>\n",
       "      <td>30700000</td>\n",
       "      <td>8</td>\n",
       "      <td>467</td>\n",
       "      <td>18200000</td>\n",
       "      <td>3300000</td>\n",
       "      <td>23300000</td>\n",
       "      <td>7900000</td>\n",
       "      <td>Rejected</td>\n",
       "    </tr>\n",
       "    <tr>\n",
       "      <th>4</th>\n",
       "      <td>5</td>\n",
       "      <td>5</td>\n",
       "      <td>Not Graduate</td>\n",
       "      <td>Yes</td>\n",
       "      <td>9800000</td>\n",
       "      <td>24200000</td>\n",
       "      <td>20</td>\n",
       "      <td>382</td>\n",
       "      <td>12400000</td>\n",
       "      <td>8200000</td>\n",
       "      <td>29400000</td>\n",
       "      <td>5000000</td>\n",
       "      <td>Rejected</td>\n",
       "    </tr>\n",
       "  </tbody>\n",
       "</table>\n",
       "</div>"
      ],
      "text/plain": [
       "   loan_id   no_of_dependents      education  self_employed   income_annum  \\\n",
       "0        1                  2       Graduate             No        9600000   \n",
       "1        2                  0   Not Graduate            Yes        4100000   \n",
       "2        3                  3       Graduate             No        9100000   \n",
       "3        4                  3       Graduate             No        8200000   \n",
       "4        5                  5   Not Graduate            Yes        9800000   \n",
       "\n",
       "    loan_amount   loan_term   cibil_score   residential_assets_value  \\\n",
       "0      29900000          12           778                    2400000   \n",
       "1      12200000           8           417                    2700000   \n",
       "2      29700000          20           506                    7100000   \n",
       "3      30700000           8           467                   18200000   \n",
       "4      24200000          20           382                   12400000   \n",
       "\n",
       "    commercial_assets_value   luxury_assets_value   bank_asset_value  \\\n",
       "0                  17600000              22700000            8000000   \n",
       "1                   2200000               8800000            3300000   \n",
       "2                   4500000              33300000           12800000   \n",
       "3                   3300000              23300000            7900000   \n",
       "4                   8200000              29400000            5000000   \n",
       "\n",
       "   loan_status  \n",
       "0     Approved  \n",
       "1     Rejected  \n",
       "2     Rejected  \n",
       "3     Rejected  \n",
       "4     Rejected  "
      ]
     },
     "execution_count": 3,
     "metadata": {},
     "output_type": "execute_result"
    }
   ],
   "source": [
    "data.head()"
   ]
  },
  {
   "cell_type": "markdown",
   "id": "7519c92e",
   "metadata": {
    "papermill": {
     "duration": 0.010802,
     "end_time": "2024-12-09T18:09:08.748362",
     "exception": false,
     "start_time": "2024-12-09T18:09:08.737560",
     "status": "completed"
    },
    "tags": []
   },
   "source": [
    "# Data Preprocessing"
   ]
  },
  {
   "cell_type": "code",
   "execution_count": 4,
   "id": "6813d380",
   "metadata": {
    "execution": {
     "iopub.execute_input": "2024-12-09T18:09:08.772100Z",
     "iopub.status.busy": "2024-12-09T18:09:08.771712Z",
     "iopub.status.idle": "2024-12-09T18:09:08.780071Z",
     "shell.execute_reply": "2024-12-09T18:09:08.778825Z"
    },
    "papermill": {
     "duration": 0.023598,
     "end_time": "2024-12-09T18:09:08.783040",
     "exception": false,
     "start_time": "2024-12-09T18:09:08.759442",
     "status": "completed"
    },
    "tags": []
   },
   "outputs": [
    {
     "data": {
      "text/plain": [
       "(4269, 13)"
      ]
     },
     "execution_count": 4,
     "metadata": {},
     "output_type": "execute_result"
    }
   ],
   "source": [
    "data.shape"
   ]
  },
  {
   "cell_type": "code",
   "execution_count": 5,
   "id": "bd7748f8",
   "metadata": {
    "execution": {
     "iopub.execute_input": "2024-12-09T18:09:08.807128Z",
     "iopub.status.busy": "2024-12-09T18:09:08.806750Z",
     "iopub.status.idle": "2024-12-09T18:09:08.839577Z",
     "shell.execute_reply": "2024-12-09T18:09:08.837850Z"
    },
    "papermill": {
     "duration": 0.047942,
     "end_time": "2024-12-09T18:09:08.842247",
     "exception": false,
     "start_time": "2024-12-09T18:09:08.794305",
     "status": "completed"
    },
    "tags": []
   },
   "outputs": [
    {
     "name": "stdout",
     "output_type": "stream",
     "text": [
      "<class 'pandas.core.frame.DataFrame'>\n",
      "RangeIndex: 4269 entries, 0 to 4268\n",
      "Data columns (total 13 columns):\n",
      " #   Column                     Non-Null Count  Dtype \n",
      "---  ------                     --------------  ----- \n",
      " 0   loan_id                    4269 non-null   int64 \n",
      " 1    no_of_dependents          4269 non-null   int64 \n",
      " 2    education                 4269 non-null   object\n",
      " 3    self_employed             4269 non-null   object\n",
      " 4    income_annum              4269 non-null   int64 \n",
      " 5    loan_amount               4269 non-null   int64 \n",
      " 6    loan_term                 4269 non-null   int64 \n",
      " 7    cibil_score               4269 non-null   int64 \n",
      " 8    residential_assets_value  4269 non-null   int64 \n",
      " 9    commercial_assets_value   4269 non-null   int64 \n",
      " 10   luxury_assets_value       4269 non-null   int64 \n",
      " 11   bank_asset_value          4269 non-null   int64 \n",
      " 12   loan_status               4269 non-null   object\n",
      "dtypes: int64(10), object(3)\n",
      "memory usage: 433.7+ KB\n"
     ]
    }
   ],
   "source": [
    "# Check the features\n",
    "data.info()"
   ]
  },
  {
   "cell_type": "code",
   "execution_count": 6,
   "id": "9fbed7ce",
   "metadata": {
    "execution": {
     "iopub.execute_input": "2024-12-09T18:09:08.865554Z",
     "iopub.status.busy": "2024-12-09T18:09:08.865102Z",
     "iopub.status.idle": "2024-12-09T18:09:08.874185Z",
     "shell.execute_reply": "2024-12-09T18:09:08.872644Z"
    },
    "papermill": {
     "duration": 0.023926,
     "end_time": "2024-12-09T18:09:08.876880",
     "exception": false,
     "start_time": "2024-12-09T18:09:08.852954",
     "status": "completed"
    },
    "tags": []
   },
   "outputs": [],
   "source": [
    "# remove loan_id\n",
    "data = data.drop(labels = ['loan_id'],axis = 1)"
   ]
  },
  {
   "cell_type": "markdown",
   "id": "cb260ac9",
   "metadata": {
    "papermill": {
     "duration": 0.010888,
     "end_time": "2024-12-09T18:09:08.899107",
     "exception": false,
     "start_time": "2024-12-09T18:09:08.888219",
     "status": "completed"
    },
    "tags": []
   },
   "source": [
    "## Null Value"
   ]
  },
  {
   "cell_type": "code",
   "execution_count": 7,
   "id": "c0fb96be",
   "metadata": {
    "execution": {
     "iopub.execute_input": "2024-12-09T18:09:08.924185Z",
     "iopub.status.busy": "2024-12-09T18:09:08.923728Z",
     "iopub.status.idle": "2024-12-09T18:09:08.935186Z",
     "shell.execute_reply": "2024-12-09T18:09:08.933798Z"
    },
    "papermill": {
     "duration": 0.02694,
     "end_time": "2024-12-09T18:09:08.937769",
     "exception": false,
     "start_time": "2024-12-09T18:09:08.910829",
     "status": "completed"
    },
    "tags": []
   },
   "outputs": [
    {
     "data": {
      "text/plain": [
       "no_of_dependents            0\n",
       "education                   0\n",
       "self_employed               0\n",
       "income_annum                0\n",
       "loan_amount                 0\n",
       "loan_term                   0\n",
       "cibil_score                 0\n",
       "residential_assets_value    0\n",
       "commercial_assets_value     0\n",
       "luxury_assets_value         0\n",
       "bank_asset_value            0\n",
       "loan_status                 0\n",
       "dtype: int64"
      ]
     },
     "execution_count": 7,
     "metadata": {},
     "output_type": "execute_result"
    }
   ],
   "source": [
    "data.isnull().sum()"
   ]
  },
  {
   "cell_type": "markdown",
   "id": "09f19554",
   "metadata": {
    "papermill": {
     "duration": 0.010876,
     "end_time": "2024-12-09T18:09:08.960092",
     "exception": false,
     "start_time": "2024-12-09T18:09:08.949216",
     "status": "completed"
    },
    "tags": []
   },
   "source": [
    "## Transformation"
   ]
  },
  {
   "cell_type": "markdown",
   "id": "1b7914e6",
   "metadata": {
    "papermill": {
     "duration": 0.011334,
     "end_time": "2024-12-09T18:09:08.983542",
     "exception": false,
     "start_time": "2024-12-09T18:09:08.972208",
     "status": "completed"
    },
    "tags": []
   },
   "source": [
    "### One Hot Encoder"
   ]
  },
  {
   "cell_type": "code",
   "execution_count": 8,
   "id": "5e40c959",
   "metadata": {
    "execution": {
     "iopub.execute_input": "2024-12-09T18:09:09.009161Z",
     "iopub.status.busy": "2024-12-09T18:09:09.008094Z",
     "iopub.status.idle": "2024-12-09T18:09:09.234846Z",
     "shell.execute_reply": "2024-12-09T18:09:09.233152Z"
    },
    "papermill": {
     "duration": 0.242772,
     "end_time": "2024-12-09T18:09:09.237630",
     "exception": false,
     "start_time": "2024-12-09T18:09:08.994858",
     "status": "completed"
    },
    "tags": []
   },
   "outputs": [],
   "source": [
    "from sklearn.preprocessing import OneHotEncoder\n",
    "\n",
    "encoder = OneHotEncoder(sparse=False)\n",
    "\n",
    "def one_hot_encoder(df,col):\n",
    "    \n",
    "    # Fit and transform the data\n",
    "    encoded_array = encoder.fit_transform(df[[col]])\n",
    "    \n",
    "    # Convert to a DataFrame\n",
    "    encoded_df = pd.DataFrame(encoded_array, columns=encoder.get_feature_names_out([col]))\n",
    "    \n",
    "    # Combine with original DataFrame\n",
    "    result_df = pd.concat([df, encoded_df], axis=1)\n",
    "    \n",
    "    # Display the result\n",
    "    return result_df"
   ]
  },
  {
   "cell_type": "markdown",
   "id": "de14d0ed",
   "metadata": {
    "papermill": {
     "duration": 0.010901,
     "end_time": "2024-12-09T18:09:09.260026",
     "exception": false,
     "start_time": "2024-12-09T18:09:09.249125",
     "status": "completed"
    },
    "tags": []
   },
   "source": [
    "### Correct The Name"
   ]
  },
  {
   "cell_type": "code",
   "execution_count": 9,
   "id": "3d769602",
   "metadata": {
    "execution": {
     "iopub.execute_input": "2024-12-09T18:09:09.285028Z",
     "iopub.status.busy": "2024-12-09T18:09:09.284533Z",
     "iopub.status.idle": "2024-12-09T18:09:09.290876Z",
     "shell.execute_reply": "2024-12-09T18:09:09.289570Z"
    },
    "papermill": {
     "duration": 0.021594,
     "end_time": "2024-12-09T18:09:09.293104",
     "exception": false,
     "start_time": "2024-12-09T18:09:09.271510",
     "status": "completed"
    },
    "tags": []
   },
   "outputs": [],
   "source": [
    "lst = list(data.columns)\n",
    "\n",
    "dic = {}\n",
    "\n",
    "for c in lst:\n",
    "\n",
    "    dic[c] = c.split(' ')[1]"
   ]
  },
  {
   "cell_type": "code",
   "execution_count": 10,
   "id": "fb80f912",
   "metadata": {
    "execution": {
     "iopub.execute_input": "2024-12-09T18:09:09.318505Z",
     "iopub.status.busy": "2024-12-09T18:09:09.317967Z",
     "iopub.status.idle": "2024-12-09T18:09:09.325815Z",
     "shell.execute_reply": "2024-12-09T18:09:09.324490Z"
    },
    "papermill": {
     "duration": 0.024191,
     "end_time": "2024-12-09T18:09:09.328847",
     "exception": false,
     "start_time": "2024-12-09T18:09:09.304656",
     "status": "completed"
    },
    "tags": []
   },
   "outputs": [],
   "source": [
    "data = data.rename(columns = dic)"
   ]
  },
  {
   "cell_type": "code",
   "execution_count": 11,
   "id": "716dd68f",
   "metadata": {
    "execution": {
     "iopub.execute_input": "2024-12-09T18:09:09.354757Z",
     "iopub.status.busy": "2024-12-09T18:09:09.353042Z",
     "iopub.status.idle": "2024-12-09T18:09:09.368312Z",
     "shell.execute_reply": "2024-12-09T18:09:09.366472Z"
    },
    "papermill": {
     "duration": 0.030641,
     "end_time": "2024-12-09T18:09:09.370922",
     "exception": false,
     "start_time": "2024-12-09T18:09:09.340281",
     "status": "completed"
    },
    "tags": []
   },
   "outputs": [
    {
     "name": "stdout",
     "output_type": "stream",
     "text": [
      "<class 'pandas.core.frame.DataFrame'>\n",
      "RangeIndex: 4269 entries, 0 to 4268\n",
      "Data columns (total 12 columns):\n",
      " #   Column                    Non-Null Count  Dtype \n",
      "---  ------                    --------------  ----- \n",
      " 0   no_of_dependents          4269 non-null   int64 \n",
      " 1   education                 4269 non-null   object\n",
      " 2   self_employed             4269 non-null   object\n",
      " 3   income_annum              4269 non-null   int64 \n",
      " 4   loan_amount               4269 non-null   int64 \n",
      " 5   loan_term                 4269 non-null   int64 \n",
      " 6   cibil_score               4269 non-null   int64 \n",
      " 7   residential_assets_value  4269 non-null   int64 \n",
      " 8   commercial_assets_value   4269 non-null   int64 \n",
      " 9   luxury_assets_value       4269 non-null   int64 \n",
      " 10  bank_asset_value          4269 non-null   int64 \n",
      " 11  loan_status               4269 non-null   object\n",
      "dtypes: int64(9), object(3)\n",
      "memory usage: 400.3+ KB\n"
     ]
    }
   ],
   "source": [
    "data.info()"
   ]
  },
  {
   "cell_type": "code",
   "execution_count": 12,
   "id": "b92997c8",
   "metadata": {
    "execution": {
     "iopub.execute_input": "2024-12-09T18:09:09.396186Z",
     "iopub.status.busy": "2024-12-09T18:09:09.395724Z",
     "iopub.status.idle": "2024-12-09T18:09:09.404229Z",
     "shell.execute_reply": "2024-12-09T18:09:09.402848Z"
    },
    "papermill": {
     "duration": 0.024073,
     "end_time": "2024-12-09T18:09:09.406635",
     "exception": false,
     "start_time": "2024-12-09T18:09:09.382562",
     "status": "completed"
    },
    "tags": []
   },
   "outputs": [
    {
     "data": {
      "text/plain": [
       "Index(['no_of_dependents', 'education', 'self_employed', 'income_annum',\n",
       "       'loan_amount', 'loan_term', 'cibil_score', 'residential_assets_value',\n",
       "       'commercial_assets_value', 'luxury_assets_value', 'bank_asset_value',\n",
       "       'loan_status'],\n",
       "      dtype='object')"
      ]
     },
     "execution_count": 12,
     "metadata": {},
     "output_type": "execute_result"
    }
   ],
   "source": [
    "data.columns"
   ]
  },
  {
   "cell_type": "code",
   "execution_count": 13,
   "id": "1c77a431",
   "metadata": {
    "execution": {
     "iopub.execute_input": "2024-12-09T18:09:09.432046Z",
     "iopub.status.busy": "2024-12-09T18:09:09.431605Z",
     "iopub.status.idle": "2024-12-09T18:09:09.457232Z",
     "shell.execute_reply": "2024-12-09T18:09:09.456018Z"
    },
    "papermill": {
     "duration": 0.04181,
     "end_time": "2024-12-09T18:09:09.459926",
     "exception": false,
     "start_time": "2024-12-09T18:09:09.418116",
     "status": "completed"
    },
    "tags": []
   },
   "outputs": [],
   "source": [
    "columns = ['education','self_employed','loan_status']\n",
    "\n",
    "\n",
    "for col in columns:\n",
    "    data = one_hot_encoder(data,col)"
   ]
  },
  {
   "cell_type": "code",
   "execution_count": 14,
   "id": "c3647797",
   "metadata": {
    "execution": {
     "iopub.execute_input": "2024-12-09T18:09:09.485211Z",
     "iopub.status.busy": "2024-12-09T18:09:09.484684Z",
     "iopub.status.idle": "2024-12-09T18:09:09.490761Z",
     "shell.execute_reply": "2024-12-09T18:09:09.489481Z"
    },
    "papermill": {
     "duration": 0.021664,
     "end_time": "2024-12-09T18:09:09.493215",
     "exception": false,
     "start_time": "2024-12-09T18:09:09.471551",
     "status": "completed"
    },
    "tags": []
   },
   "outputs": [],
   "source": [
    "col_to_del = ['education','self_employed','loan_status','education_ Not Graduate','self_employed_ No','loan_status_ Rejected']"
   ]
  },
  {
   "cell_type": "code",
   "execution_count": 15,
   "id": "3d63ca03",
   "metadata": {
    "execution": {
     "iopub.execute_input": "2024-12-09T18:09:09.518808Z",
     "iopub.status.busy": "2024-12-09T18:09:09.518314Z",
     "iopub.status.idle": "2024-12-09T18:09:09.527815Z",
     "shell.execute_reply": "2024-12-09T18:09:09.526528Z"
    },
    "papermill": {
     "duration": 0.025708,
     "end_time": "2024-12-09T18:09:09.530671",
     "exception": false,
     "start_time": "2024-12-09T18:09:09.504963",
     "status": "completed"
    },
    "tags": []
   },
   "outputs": [],
   "source": [
    "data = data.drop(labels = col_to_del,axis = 1)"
   ]
  },
  {
   "cell_type": "code",
   "execution_count": 16,
   "id": "9730527a",
   "metadata": {
    "execution": {
     "iopub.execute_input": "2024-12-09T18:09:09.555861Z",
     "iopub.status.busy": "2024-12-09T18:09:09.555342Z",
     "iopub.status.idle": "2024-12-09T18:09:09.561434Z",
     "shell.execute_reply": "2024-12-09T18:09:09.560166Z"
    },
    "papermill": {
     "duration": 0.021865,
     "end_time": "2024-12-09T18:09:09.564095",
     "exception": false,
     "start_time": "2024-12-09T18:09:09.542230",
     "status": "completed"
    },
    "tags": []
   },
   "outputs": [],
   "source": [
    "columns={'self_employed_ Yes' : 'self_employed','loan_status_ Approved' : 'loan_status','education_ Graduate':'education_ Graduate'}"
   ]
  },
  {
   "cell_type": "code",
   "execution_count": 17,
   "id": "7d822885",
   "metadata": {
    "execution": {
     "iopub.execute_input": "2024-12-09T18:09:09.589255Z",
     "iopub.status.busy": "2024-12-09T18:09:09.588742Z",
     "iopub.status.idle": "2024-12-09T18:09:09.596490Z",
     "shell.execute_reply": "2024-12-09T18:09:09.595144Z"
    },
    "papermill": {
     "duration": 0.023563,
     "end_time": "2024-12-09T18:09:09.599386",
     "exception": false,
     "start_time": "2024-12-09T18:09:09.575823",
     "status": "completed"
    },
    "tags": []
   },
   "outputs": [],
   "source": [
    "data = data.rename(columns=columns)"
   ]
  },
  {
   "cell_type": "markdown",
   "id": "e79a3b74",
   "metadata": {
    "papermill": {
     "duration": 0.011193,
     "end_time": "2024-12-09T18:09:09.622320",
     "exception": false,
     "start_time": "2024-12-09T18:09:09.611127",
     "status": "completed"
    },
    "tags": []
   },
   "source": [
    "## OutLier"
   ]
  },
  {
   "cell_type": "code",
   "execution_count": 18,
   "id": "5ed01194",
   "metadata": {
    "execution": {
     "iopub.execute_input": "2024-12-09T18:09:09.648554Z",
     "iopub.status.busy": "2024-12-09T18:09:09.648014Z",
     "iopub.status.idle": "2024-12-09T18:09:09.667484Z",
     "shell.execute_reply": "2024-12-09T18:09:09.666159Z"
    },
    "papermill": {
     "duration": 0.035563,
     "end_time": "2024-12-09T18:09:09.670120",
     "exception": false,
     "start_time": "2024-12-09T18:09:09.634557",
     "status": "completed"
    },
    "tags": []
   },
   "outputs": [
    {
     "data": {
      "text/html": [
       "<div>\n",
       "<style scoped>\n",
       "    .dataframe tbody tr th:only-of-type {\n",
       "        vertical-align: middle;\n",
       "    }\n",
       "\n",
       "    .dataframe tbody tr th {\n",
       "        vertical-align: top;\n",
       "    }\n",
       "\n",
       "    .dataframe thead th {\n",
       "        text-align: right;\n",
       "    }\n",
       "</style>\n",
       "<table border=\"1\" class=\"dataframe\">\n",
       "  <thead>\n",
       "    <tr style=\"text-align: right;\">\n",
       "      <th></th>\n",
       "      <th>no_of_dependents</th>\n",
       "      <th>income_annum</th>\n",
       "      <th>loan_amount</th>\n",
       "      <th>loan_term</th>\n",
       "      <th>cibil_score</th>\n",
       "      <th>residential_assets_value</th>\n",
       "      <th>commercial_assets_value</th>\n",
       "      <th>luxury_assets_value</th>\n",
       "      <th>bank_asset_value</th>\n",
       "      <th>education_ Graduate</th>\n",
       "      <th>self_employed</th>\n",
       "      <th>loan_status</th>\n",
       "    </tr>\n",
       "  </thead>\n",
       "  <tbody>\n",
       "    <tr>\n",
       "      <th>0</th>\n",
       "      <td>2</td>\n",
       "      <td>9600000</td>\n",
       "      <td>29900000</td>\n",
       "      <td>12</td>\n",
       "      <td>778</td>\n",
       "      <td>2400000</td>\n",
       "      <td>17600000</td>\n",
       "      <td>22700000</td>\n",
       "      <td>8000000</td>\n",
       "      <td>1.0</td>\n",
       "      <td>0.0</td>\n",
       "      <td>1.0</td>\n",
       "    </tr>\n",
       "    <tr>\n",
       "      <th>1</th>\n",
       "      <td>0</td>\n",
       "      <td>4100000</td>\n",
       "      <td>12200000</td>\n",
       "      <td>8</td>\n",
       "      <td>417</td>\n",
       "      <td>2700000</td>\n",
       "      <td>2200000</td>\n",
       "      <td>8800000</td>\n",
       "      <td>3300000</td>\n",
       "      <td>0.0</td>\n",
       "      <td>1.0</td>\n",
       "      <td>0.0</td>\n",
       "    </tr>\n",
       "    <tr>\n",
       "      <th>2</th>\n",
       "      <td>3</td>\n",
       "      <td>9100000</td>\n",
       "      <td>29700000</td>\n",
       "      <td>20</td>\n",
       "      <td>506</td>\n",
       "      <td>7100000</td>\n",
       "      <td>4500000</td>\n",
       "      <td>33300000</td>\n",
       "      <td>12800000</td>\n",
       "      <td>1.0</td>\n",
       "      <td>0.0</td>\n",
       "      <td>0.0</td>\n",
       "    </tr>\n",
       "    <tr>\n",
       "      <th>3</th>\n",
       "      <td>3</td>\n",
       "      <td>8200000</td>\n",
       "      <td>30700000</td>\n",
       "      <td>8</td>\n",
       "      <td>467</td>\n",
       "      <td>18200000</td>\n",
       "      <td>3300000</td>\n",
       "      <td>23300000</td>\n",
       "      <td>7900000</td>\n",
       "      <td>1.0</td>\n",
       "      <td>0.0</td>\n",
       "      <td>0.0</td>\n",
       "    </tr>\n",
       "    <tr>\n",
       "      <th>4</th>\n",
       "      <td>5</td>\n",
       "      <td>9800000</td>\n",
       "      <td>24200000</td>\n",
       "      <td>20</td>\n",
       "      <td>382</td>\n",
       "      <td>12400000</td>\n",
       "      <td>8200000</td>\n",
       "      <td>29400000</td>\n",
       "      <td>5000000</td>\n",
       "      <td>0.0</td>\n",
       "      <td>1.0</td>\n",
       "      <td>0.0</td>\n",
       "    </tr>\n",
       "  </tbody>\n",
       "</table>\n",
       "</div>"
      ],
      "text/plain": [
       "   no_of_dependents  income_annum  loan_amount  loan_term  cibil_score  \\\n",
       "0                 2       9600000     29900000         12          778   \n",
       "1                 0       4100000     12200000          8          417   \n",
       "2                 3       9100000     29700000         20          506   \n",
       "3                 3       8200000     30700000          8          467   \n",
       "4                 5       9800000     24200000         20          382   \n",
       "\n",
       "   residential_assets_value  commercial_assets_value  luxury_assets_value  \\\n",
       "0                   2400000                 17600000             22700000   \n",
       "1                   2700000                  2200000              8800000   \n",
       "2                   7100000                  4500000             33300000   \n",
       "3                  18200000                  3300000             23300000   \n",
       "4                  12400000                  8200000             29400000   \n",
       "\n",
       "   bank_asset_value  education_ Graduate  self_employed  loan_status  \n",
       "0           8000000                  1.0            0.0          1.0  \n",
       "1           3300000                  0.0            1.0          0.0  \n",
       "2          12800000                  1.0            0.0          0.0  \n",
       "3           7900000                  1.0            0.0          0.0  \n",
       "4           5000000                  0.0            1.0          0.0  "
      ]
     },
     "execution_count": 18,
     "metadata": {},
     "output_type": "execute_result"
    }
   ],
   "source": [
    "data.head()"
   ]
  },
  {
   "cell_type": "code",
   "execution_count": 19,
   "id": "6a916161",
   "metadata": {
    "execution": {
     "iopub.execute_input": "2024-12-09T18:09:09.699546Z",
     "iopub.status.busy": "2024-12-09T18:09:09.698191Z",
     "iopub.status.idle": "2024-12-09T18:09:09.967201Z",
     "shell.execute_reply": "2024-12-09T18:09:09.965489Z"
    },
    "papermill": {
     "duration": 0.287265,
     "end_time": "2024-12-09T18:09:09.970122",
     "exception": false,
     "start_time": "2024-12-09T18:09:09.682857",
     "status": "completed"
    },
    "tags": []
   },
   "outputs": [
    {
     "data": {
      "text/plain": [
       "<Axes: ylabel='residential_assets_value'>"
      ]
     },
     "execution_count": 19,
     "metadata": {},
     "output_type": "execute_result"
    },
    {
     "data": {
      "image/png": "[encoded data removed]",
      "text/plain": [
       "<Figure size 500x400 with 1 Axes>"
      ]
     },
     "metadata": {},
     "output_type": "display_data"
    }
   ],
   "source": [
    "plt.figure(figsize = (5,4))\n",
    "sns.boxplot(data, y= 'residential_assets_value')"
   ]
  },
  {
   "cell_type": "code",
   "execution_count": 20,
   "id": "e2eff413",
   "metadata": {
    "execution": {
     "iopub.execute_input": "2024-12-09T18:09:09.998987Z",
     "iopub.status.busy": "2024-12-09T18:09:09.997914Z",
     "iopub.status.idle": "2024-12-09T18:09:10.236616Z",
     "shell.execute_reply": "2024-12-09T18:09:10.235180Z"
    },
    "papermill": {
     "duration": 0.256888,
     "end_time": "2024-12-09T18:09:10.239089",
     "exception": false,
     "start_time": "2024-12-09T18:09:09.982201",
     "status": "completed"
    },
    "tags": []
   },
   "outputs": [
    {
     "data": {
      "text/plain": [
       "<Axes: ylabel='commercial_assets_value'>"
      ]
     },
     "execution_count": 20,
     "metadata": {},
     "output_type": "execute_result"
    },
    {
     "data": {
      "image/png": "[encoded data removed]",
      "text/plain": [
       "<Figure size 500x400 with 1 Axes>"
      ]
     },
     "metadata": {},
     "output_type": "display_data"
    }
   ],
   "source": [
    "plt.figure(figsize = (5,4))\n",
    "sns.boxplot(data, y= 'commercial_assets_value')"
   ]
  },
  {
   "cell_type": "code",
   "execution_count": 21,
   "id": "13a981b2",
   "metadata": {
    "execution": {
     "iopub.execute_input": "2024-12-09T18:09:10.266360Z",
     "iopub.status.busy": "2024-12-09T18:09:10.265144Z",
     "iopub.status.idle": "2024-12-09T18:09:10.490698Z",
     "shell.execute_reply": "2024-12-09T18:09:10.489324Z"
    },
    "papermill": {
     "duration": 0.24198,
     "end_time": "2024-12-09T18:09:10.493282",
     "exception": false,
     "start_time": "2024-12-09T18:09:10.251302",
     "status": "completed"
    },
    "tags": []
   },
   "outputs": [
    {
     "data": {
      "text/plain": [
       "<Axes: ylabel='bank_asset_value'>"
      ]
     },
     "execution_count": 21,
     "metadata": {},
     "output_type": "execute_result"
    },
    {
     "data": {
      "image/png": "[encoded data removed]",
      "text/plain": [
       "<Figure size 500x400 with 1 Axes>"
      ]
     },
     "metadata": {},
     "output_type": "display_data"
    }
   ],
   "source": [
    "plt.figure(figsize = (5,4))\n",
    "sns.boxplot(data, y= 'bank_asset_value')"
   ]
  },
  {
   "cell_type": "code",
   "execution_count": 22,
   "id": "3d8d427c",
   "metadata": {
    "execution": {
     "iopub.execute_input": "2024-12-09T18:09:10.520958Z",
     "iopub.status.busy": "2024-12-09T18:09:10.520458Z",
     "iopub.status.idle": "2024-12-09T18:09:10.527849Z",
     "shell.execute_reply": "2024-12-09T18:09:10.526462Z"
    },
    "papermill": {
     "duration": 0.024391,
     "end_time": "2024-12-09T18:09:10.530649",
     "exception": false,
     "start_time": "2024-12-09T18:09:10.506258",
     "status": "completed"
    },
    "tags": []
   },
   "outputs": [],
   "source": [
    "def remove_outliers(data, column):\n",
    "    Q1 = data[column].quantile(0.25)  # First quartile (25th percentile)\n",
    "    Q3 = data[column].quantile(0.75)  # Third quartile (75th percentile)\n",
    "    \n",
    "    IQR = Q3 - Q1  # Interquartile range\n",
    "    lower_bound = Q1 - 1.5 * IQR  # Lower bound\n",
    "    upper_bound = Q3 + 1.5 * IQR  # Upper bound\n",
    "\n",
    "    # Filter data to remove outliers\n",
    "    return data[(data[column] >= lower_bound) & (data[column] <= upper_bound)]"
   ]
  },
  {
   "cell_type": "code",
   "execution_count": 23,
   "id": "2dd13b2b",
   "metadata": {
    "execution": {
     "iopub.execute_input": "2024-12-09T18:09:10.557862Z",
     "iopub.status.busy": "2024-12-09T18:09:10.557461Z",
     "iopub.status.idle": "2024-12-09T18:09:10.572618Z",
     "shell.execute_reply": "2024-12-09T18:09:10.571417Z"
    },
    "papermill": {
     "duration": 0.032138,
     "end_time": "2024-12-09T18:09:10.575517",
     "exception": false,
     "start_time": "2024-12-09T18:09:10.543379",
     "status": "completed"
    },
    "tags": []
   },
   "outputs": [],
   "source": [
    "data = remove_outliers(data,'residential_assets_value')\n",
    "data = remove_outliers(data,'commercial_assets_value')\n",
    "data = remove_outliers(data,'bank_asset_value')"
   ]
  },
  {
   "cell_type": "code",
   "execution_count": 24,
   "id": "e6c012e0",
   "metadata": {
    "execution": {
     "iopub.execute_input": "2024-12-09T18:09:10.602530Z",
     "iopub.status.busy": "2024-12-09T18:09:10.602102Z",
     "iopub.status.idle": "2024-12-09T18:09:10.619667Z",
     "shell.execute_reply": "2024-12-09T18:09:10.618275Z"
    },
    "papermill": {
     "duration": 0.034485,
     "end_time": "2024-12-09T18:09:10.622826",
     "exception": false,
     "start_time": "2024-12-09T18:09:10.588341",
     "status": "completed"
    },
    "tags": []
   },
   "outputs": [
    {
     "data": {
      "text/html": [
       "<div>\n",
       "<style scoped>\n",
       "    .dataframe tbody tr th:only-of-type {\n",
       "        vertical-align: middle;\n",
       "    }\n",
       "\n",
       "    .dataframe tbody tr th {\n",
       "        vertical-align: top;\n",
       "    }\n",
       "\n",
       "    .dataframe thead th {\n",
       "        text-align: right;\n",
       "    }\n",
       "</style>\n",
       "<table border=\"1\" class=\"dataframe\">\n",
       "  <thead>\n",
       "    <tr style=\"text-align: right;\">\n",
       "      <th></th>\n",
       "      <th>no_of_dependents</th>\n",
       "      <th>income_annum</th>\n",
       "      <th>loan_amount</th>\n",
       "      <th>loan_term</th>\n",
       "      <th>cibil_score</th>\n",
       "      <th>residential_assets_value</th>\n",
       "      <th>commercial_assets_value</th>\n",
       "      <th>luxury_assets_value</th>\n",
       "      <th>bank_asset_value</th>\n",
       "      <th>education_ Graduate</th>\n",
       "      <th>self_employed</th>\n",
       "      <th>loan_status</th>\n",
       "    </tr>\n",
       "  </thead>\n",
       "  <tbody>\n",
       "    <tr>\n",
       "      <th>1</th>\n",
       "      <td>0</td>\n",
       "      <td>4100000</td>\n",
       "      <td>12200000</td>\n",
       "      <td>8</td>\n",
       "      <td>417</td>\n",
       "      <td>2700000</td>\n",
       "      <td>2200000</td>\n",
       "      <td>8800000</td>\n",
       "      <td>3300000</td>\n",
       "      <td>0.0</td>\n",
       "      <td>1.0</td>\n",
       "      <td>0.0</td>\n",
       "    </tr>\n",
       "    <tr>\n",
       "      <th>2</th>\n",
       "      <td>3</td>\n",
       "      <td>9100000</td>\n",
       "      <td>29700000</td>\n",
       "      <td>20</td>\n",
       "      <td>506</td>\n",
       "      <td>7100000</td>\n",
       "      <td>4500000</td>\n",
       "      <td>33300000</td>\n",
       "      <td>12800000</td>\n",
       "      <td>1.0</td>\n",
       "      <td>0.0</td>\n",
       "      <td>0.0</td>\n",
       "    </tr>\n",
       "    <tr>\n",
       "      <th>3</th>\n",
       "      <td>3</td>\n",
       "      <td>8200000</td>\n",
       "      <td>30700000</td>\n",
       "      <td>8</td>\n",
       "      <td>467</td>\n",
       "      <td>18200000</td>\n",
       "      <td>3300000</td>\n",
       "      <td>23300000</td>\n",
       "      <td>7900000</td>\n",
       "      <td>1.0</td>\n",
       "      <td>0.0</td>\n",
       "      <td>0.0</td>\n",
       "    </tr>\n",
       "    <tr>\n",
       "      <th>4</th>\n",
       "      <td>5</td>\n",
       "      <td>9800000</td>\n",
       "      <td>24200000</td>\n",
       "      <td>20</td>\n",
       "      <td>382</td>\n",
       "      <td>12400000</td>\n",
       "      <td>8200000</td>\n",
       "      <td>29400000</td>\n",
       "      <td>5000000</td>\n",
       "      <td>0.0</td>\n",
       "      <td>1.0</td>\n",
       "      <td>0.0</td>\n",
       "    </tr>\n",
       "    <tr>\n",
       "      <th>5</th>\n",
       "      <td>0</td>\n",
       "      <td>4800000</td>\n",
       "      <td>13500000</td>\n",
       "      <td>10</td>\n",
       "      <td>319</td>\n",
       "      <td>6800000</td>\n",
       "      <td>8300000</td>\n",
       "      <td>13700000</td>\n",
       "      <td>5100000</td>\n",
       "      <td>1.0</td>\n",
       "      <td>1.0</td>\n",
       "      <td>0.0</td>\n",
       "    </tr>\n",
       "  </tbody>\n",
       "</table>\n",
       "</div>"
      ],
      "text/plain": [
       "   no_of_dependents  income_annum  loan_amount  loan_term  cibil_score  \\\n",
       "1                 0       4100000     12200000          8          417   \n",
       "2                 3       9100000     29700000         20          506   \n",
       "3                 3       8200000     30700000          8          467   \n",
       "4                 5       9800000     24200000         20          382   \n",
       "5                 0       4800000     13500000         10          319   \n",
       "\n",
       "   residential_assets_value  commercial_assets_value  luxury_assets_value  \\\n",
       "1                   2700000                  2200000              8800000   \n",
       "2                   7100000                  4500000             33300000   \n",
       "3                  18200000                  3300000             23300000   \n",
       "4                  12400000                  8200000             29400000   \n",
       "5                   6800000                  8300000             13700000   \n",
       "\n",
       "   bank_asset_value  education_ Graduate  self_employed  loan_status  \n",
       "1           3300000                  0.0            1.0          0.0  \n",
       "2          12800000                  1.0            0.0          0.0  \n",
       "3           7900000                  1.0            0.0          0.0  \n",
       "4           5000000                  0.0            1.0          0.0  \n",
       "5           5100000                  1.0            1.0          0.0  "
      ]
     },
     "execution_count": 24,
     "metadata": {},
     "output_type": "execute_result"
    }
   ],
   "source": [
    "data.head()"
   ]
  },
  {
   "cell_type": "markdown",
   "id": "baf5f53c",
   "metadata": {
    "papermill": {
     "duration": 0.012695,
     "end_time": "2024-12-09T18:09:10.649800",
     "exception": false,
     "start_time": "2024-12-09T18:09:10.637105",
     "status": "completed"
    },
    "tags": []
   },
   "source": [
    "## Data Correlation"
   ]
  },
  {
   "cell_type": "code",
   "execution_count": 25,
   "id": "b74d6ef2",
   "metadata": {
    "execution": {
     "iopub.execute_input": "2024-12-09T18:09:10.678827Z",
     "iopub.status.busy": "2024-12-09T18:09:10.678373Z",
     "iopub.status.idle": "2024-12-09T18:09:10.692729Z",
     "shell.execute_reply": "2024-12-09T18:09:10.691013Z"
    },
    "papermill": {
     "duration": 0.032949,
     "end_time": "2024-12-09T18:09:10.696161",
     "exception": false,
     "start_time": "2024-12-09T18:09:10.663212",
     "status": "completed"
    },
    "tags": []
   },
   "outputs": [
    {
     "name": "stdout",
     "output_type": "stream",
     "text": [
      "<class 'pandas.core.frame.DataFrame'>\n",
      "Index: 4173 entries, 1 to 4268\n",
      "Data columns (total 12 columns):\n",
      " #   Column                    Non-Null Count  Dtype  \n",
      "---  ------                    --------------  -----  \n",
      " 0   no_of_dependents          4173 non-null   int64  \n",
      " 1   income_annum              4173 non-null   int64  \n",
      " 2   loan_amount               4173 non-null   int64  \n",
      " 3   loan_term                 4173 non-null   int64  \n",
      " 4   cibil_score               4173 non-null   int64  \n",
      " 5   residential_assets_value  4173 non-null   int64  \n",
      " 6   commercial_assets_value   4173 non-null   int64  \n",
      " 7   luxury_assets_value       4173 non-null   int64  \n",
      " 8   bank_asset_value          4173 non-null   int64  \n",
      " 9   education_ Graduate       4173 non-null   float64\n",
      " 10  self_employed             4173 non-null   float64\n",
      " 11  loan_status               4173 non-null   float64\n",
      "dtypes: float64(3), int64(9)\n",
      "memory usage: 423.8 KB\n"
     ]
    }
   ],
   "source": [
    "data.info()"
   ]
  },
  {
   "cell_type": "code",
   "execution_count": 26,
   "id": "e9183d22",
   "metadata": {
    "execution": {
     "iopub.execute_input": "2024-12-09T18:09:10.740007Z",
     "iopub.status.busy": "2024-12-09T18:09:10.738671Z",
     "iopub.status.idle": "2024-12-09T18:09:10.749984Z",
     "shell.execute_reply": "2024-12-09T18:09:10.748828Z"
    },
    "papermill": {
     "duration": 0.035545,
     "end_time": "2024-12-09T18:09:10.752457",
     "exception": false,
     "start_time": "2024-12-09T18:09:10.716912",
     "status": "completed"
    },
    "tags": []
   },
   "outputs": [],
   "source": [
    "col = ['income_annum','residential_assets_value','bank_asset_value','commercial_assets_value','luxury_assets_value']\n",
    "\n",
    "data['wealth'] = data['income_annum'] + data['residential_assets_value'] + data['commercial_assets_value'] + data['bank_asset_value'] + data['luxury_assets_value']"
   ]
  },
  {
   "cell_type": "code",
   "execution_count": 27,
   "id": "d4d18c10",
   "metadata": {
    "execution": {
     "iopub.execute_input": "2024-12-09T18:09:10.789117Z",
     "iopub.status.busy": "2024-12-09T18:09:10.788657Z",
     "iopub.status.idle": "2024-12-09T18:09:10.796488Z",
     "shell.execute_reply": "2024-12-09T18:09:10.795010Z"
    },
    "papermill": {
     "duration": 0.026351,
     "end_time": "2024-12-09T18:09:10.799367",
     "exception": false,
     "start_time": "2024-12-09T18:09:10.773016",
     "status": "completed"
    },
    "tags": []
   },
   "outputs": [],
   "source": [
    "data = data.drop(labels = col,axis = 1)"
   ]
  },
  {
   "cell_type": "code",
   "execution_count": 28,
   "id": "233c0a40",
   "metadata": {
    "execution": {
     "iopub.execute_input": "2024-12-09T18:09:10.826863Z",
     "iopub.status.busy": "2024-12-09T18:09:10.826392Z",
     "iopub.status.idle": "2024-12-09T18:09:10.848115Z",
     "shell.execute_reply": "2024-12-09T18:09:10.846438Z"
    },
    "papermill": {
     "duration": 0.038472,
     "end_time": "2024-12-09T18:09:10.850612",
     "exception": false,
     "start_time": "2024-12-09T18:09:10.812140",
     "status": "completed"
    },
    "tags": []
   },
   "outputs": [
    {
     "data": {
      "text/html": [
       "<div>\n",
       "<style scoped>\n",
       "    .dataframe tbody tr th:only-of-type {\n",
       "        vertical-align: middle;\n",
       "    }\n",
       "\n",
       "    .dataframe tbody tr th {\n",
       "        vertical-align: top;\n",
       "    }\n",
       "\n",
       "    .dataframe thead th {\n",
       "        text-align: right;\n",
       "    }\n",
       "</style>\n",
       "<table border=\"1\" class=\"dataframe\">\n",
       "  <thead>\n",
       "    <tr style=\"text-align: right;\">\n",
       "      <th></th>\n",
       "      <th>no_of_dependents</th>\n",
       "      <th>loan_amount</th>\n",
       "      <th>loan_term</th>\n",
       "      <th>cibil_score</th>\n",
       "      <th>education_ Graduate</th>\n",
       "      <th>self_employed</th>\n",
       "      <th>loan_status</th>\n",
       "      <th>wealth</th>\n",
       "    </tr>\n",
       "  </thead>\n",
       "  <tbody>\n",
       "    <tr>\n",
       "      <th>no_of_dependents</th>\n",
       "      <td>1.000000</td>\n",
       "      <td>-0.005251</td>\n",
       "      <td>-0.020783</td>\n",
       "      <td>-0.010017</td>\n",
       "      <td>0.004032</td>\n",
       "      <td>0.001769</td>\n",
       "      <td>-0.018439</td>\n",
       "      <td>0.007280</td>\n",
       "    </tr>\n",
       "    <tr>\n",
       "      <th>loan_amount</th>\n",
       "      <td>-0.005251</td>\n",
       "      <td>1.000000</td>\n",
       "      <td>0.004848</td>\n",
       "      <td>-0.015739</td>\n",
       "      <td>0.016993</td>\n",
       "      <td>0.001464</td>\n",
       "      <td>0.017658</td>\n",
       "      <td>0.883382</td>\n",
       "    </tr>\n",
       "    <tr>\n",
       "      <th>loan_term</th>\n",
       "      <td>-0.020783</td>\n",
       "      <td>0.004848</td>\n",
       "      <td>1.000000</td>\n",
       "      <td>0.007863</td>\n",
       "      <td>-0.006570</td>\n",
       "      <td>0.008005</td>\n",
       "      <td>-0.114682</td>\n",
       "      <td>0.004296</td>\n",
       "    </tr>\n",
       "    <tr>\n",
       "      <th>cibil_score</th>\n",
       "      <td>-0.010017</td>\n",
       "      <td>-0.015739</td>\n",
       "      <td>0.007863</td>\n",
       "      <td>1.000000</td>\n",
       "      <td>-0.007885</td>\n",
       "      <td>-0.005226</td>\n",
       "      <td>0.770588</td>\n",
       "      <td>-0.021775</td>\n",
       "    </tr>\n",
       "    <tr>\n",
       "      <th>education_ Graduate</th>\n",
       "      <td>0.004032</td>\n",
       "      <td>0.016993</td>\n",
       "      <td>-0.006570</td>\n",
       "      <td>-0.007885</td>\n",
       "      <td>1.000000</td>\n",
       "      <td>-0.020919</td>\n",
       "      <td>0.004307</td>\n",
       "      <td>0.019522</td>\n",
       "    </tr>\n",
       "    <tr>\n",
       "      <th>self_employed</th>\n",
       "      <td>0.001769</td>\n",
       "      <td>0.001464</td>\n",
       "      <td>0.008005</td>\n",
       "      <td>-0.005226</td>\n",
       "      <td>-0.020919</td>\n",
       "      <td>1.000000</td>\n",
       "      <td>0.002815</td>\n",
       "      <td>0.001244</td>\n",
       "    </tr>\n",
       "    <tr>\n",
       "      <th>loan_status</th>\n",
       "      <td>-0.018439</td>\n",
       "      <td>0.017658</td>\n",
       "      <td>-0.114682</td>\n",
       "      <td>0.770588</td>\n",
       "      <td>0.004307</td>\n",
       "      <td>0.002815</td>\n",
       "      <td>1.000000</td>\n",
       "      <td>-0.009627</td>\n",
       "    </tr>\n",
       "    <tr>\n",
       "      <th>wealth</th>\n",
       "      <td>0.007280</td>\n",
       "      <td>0.883382</td>\n",
       "      <td>0.004296</td>\n",
       "      <td>-0.021775</td>\n",
       "      <td>0.019522</td>\n",
       "      <td>0.001244</td>\n",
       "      <td>-0.009627</td>\n",
       "      <td>1.000000</td>\n",
       "    </tr>\n",
       "  </tbody>\n",
       "</table>\n",
       "</div>"
      ],
      "text/plain": [
       "                     no_of_dependents  loan_amount  loan_term  cibil_score  \\\n",
       "no_of_dependents             1.000000    -0.005251  -0.020783    -0.010017   \n",
       "loan_amount                 -0.005251     1.000000   0.004848    -0.015739   \n",
       "loan_term                   -0.020783     0.004848   1.000000     0.007863   \n",
       "cibil_score                 -0.010017    -0.015739   0.007863     1.000000   \n",
       "education_ Graduate          0.004032     0.016993  -0.006570    -0.007885   \n",
       "self_employed                0.001769     0.001464   0.008005    -0.005226   \n",
       "loan_status                 -0.018439     0.017658  -0.114682     0.770588   \n",
       "wealth                       0.007280     0.883382   0.004296    -0.021775   \n",
       "\n",
       "                     education_ Graduate  self_employed  loan_status    wealth  \n",
       "no_of_dependents                0.004032       0.001769    -0.018439  0.007280  \n",
       "loan_amount                     0.016993       0.001464     0.017658  0.883382  \n",
       "loan_term                      -0.006570       0.008005    -0.114682  0.004296  \n",
       "cibil_score                    -0.007885      -0.005226     0.770588 -0.021775  \n",
       "education_ Graduate             1.000000      -0.020919     0.004307  0.019522  \n",
       "self_employed                  -0.020919       1.000000     0.002815  0.001244  \n",
       "loan_status                     0.004307       0.002815     1.000000 -0.009627  \n",
       "wealth                          0.019522       0.001244    -0.009627  1.000000  "
      ]
     },
     "execution_count": 28,
     "metadata": {},
     "output_type": "execute_result"
    }
   ],
   "source": [
    "data.corr()"
   ]
  },
  {
   "cell_type": "code",
   "execution_count": 29,
   "id": "e38654bc",
   "metadata": {
    "execution": {
     "iopub.execute_input": "2024-12-09T18:09:10.878840Z",
     "iopub.status.busy": "2024-12-09T18:09:10.878311Z",
     "iopub.status.idle": "2024-12-09T18:09:11.681972Z",
     "shell.execute_reply": "2024-12-09T18:09:11.680198Z"
    },
    "papermill": {
     "duration": 0.823141,
     "end_time": "2024-12-09T18:09:11.686713",
     "exception": false,
     "start_time": "2024-12-09T18:09:10.863572",
     "status": "completed"
    },
    "tags": []
   },
   "outputs": [
    {
     "data": {
      "text/plain": [
       "<Axes: >"
      ]
     },
     "execution_count": 29,
     "metadata": {},
     "output_type": "execute_result"
    },
    {
     "data": {
      "image/png": "[encoded data removed]",
      "text/plain": [
       "<Figure size 2000x2000 with 2 Axes>"
      ]
     },
     "metadata": {},
     "output_type": "display_data"
    }
   ],
   "source": [
    "plt.figure(figsize = (20,20))\n",
    "sns.heatmap(data.corr(),annot = True)"
   ]
  },
  {
   "cell_type": "code",
   "execution_count": 30,
   "id": "70893d40",
   "metadata": {
    "execution": {
     "iopub.execute_input": "2024-12-09T18:09:11.720593Z",
     "iopub.status.busy": "2024-12-09T18:09:11.720080Z",
     "iopub.status.idle": "2024-12-09T18:09:11.974268Z",
     "shell.execute_reply": "2024-12-09T18:09:11.972937Z"
    },
    "papermill": {
     "duration": 0.274046,
     "end_time": "2024-12-09T18:09:11.976741",
     "exception": false,
     "start_time": "2024-12-09T18:09:11.702695",
     "status": "completed"
    },
    "tags": []
   },
   "outputs": [
    {
     "data": {
      "text/plain": [
       "<Axes: xlabel='loan_status'>"
      ]
     },
     "execution_count": 30,
     "metadata": {},
     "output_type": "execute_result"
    },
    {
     "data": {
      "image/png": "[encoded data removed]",
      "text/plain": [
       "<Figure size 640x480 with 1 Axes>"
      ]
     },
     "metadata": {},
     "output_type": "display_data"
    }
   ],
   "source": [
    "# relation b/w loan statues and dependents\n",
    "data.groupby('loan_status')['no_of_dependents'].mean().plot(kind = 'bar')"
   ]
  },
  {
   "cell_type": "code",
   "execution_count": 31,
   "id": "1dbff461",
   "metadata": {
    "execution": {
     "iopub.execute_input": "2024-12-09T18:09:12.010722Z",
     "iopub.status.busy": "2024-12-09T18:09:12.010308Z",
     "iopub.status.idle": "2024-12-09T18:09:12.232558Z",
     "shell.execute_reply": "2024-12-09T18:09:12.231119Z"
    },
    "papermill": {
     "duration": 0.242089,
     "end_time": "2024-12-09T18:09:12.235334",
     "exception": false,
     "start_time": "2024-12-09T18:09:11.993245",
     "status": "completed"
    },
    "tags": []
   },
   "outputs": [
    {
     "data": {
      "text/plain": [
       "<Axes: xlabel='loan_status'>"
      ]
     },
     "execution_count": 31,
     "metadata": {},
     "output_type": "execute_result"
    },
    {
     "data": {
      "image/png": "[encoded data removed]",
      "text/plain": [
       "<Figure size 640x480 with 1 Axes>"
      ]
     },
     "metadata": {},
     "output_type": "display_data"
    }
   ],
   "source": [
    "data.groupby('loan_status')['wealth'].mean().plot(kind = 'bar')"
   ]
  },
  {
   "cell_type": "code",
   "execution_count": 32,
   "id": "29325a8f",
   "metadata": {
    "execution": {
     "iopub.execute_input": "2024-12-09T18:09:12.268967Z",
     "iopub.status.busy": "2024-12-09T18:09:12.268557Z",
     "iopub.status.idle": "2024-12-09T18:09:12.276913Z",
     "shell.execute_reply": "2024-12-09T18:09:12.275564Z"
    },
    "papermill": {
     "duration": 0.028445,
     "end_time": "2024-12-09T18:09:12.279608",
     "exception": false,
     "start_time": "2024-12-09T18:09:12.251163",
     "status": "completed"
    },
    "tags": []
   },
   "outputs": [
    {
     "data": {
      "text/plain": [
       "2"
      ]
     },
     "execution_count": 32,
     "metadata": {},
     "output_type": "execute_result"
    }
   ],
   "source": [
    "data['self_employed'].nunique()"
   ]
  },
  {
   "cell_type": "code",
   "execution_count": 33,
   "id": "fd1aab30",
   "metadata": {
    "execution": {
     "iopub.execute_input": "2024-12-09T18:09:12.316248Z",
     "iopub.status.busy": "2024-12-09T18:09:12.315797Z",
     "iopub.status.idle": "2024-12-09T18:09:12.596430Z",
     "shell.execute_reply": "2024-12-09T18:09:12.594762Z"
    },
    "papermill": {
     "duration": 0.303201,
     "end_time": "2024-12-09T18:09:12.599191",
     "exception": false,
     "start_time": "2024-12-09T18:09:12.295990",
     "status": "completed"
    },
    "tags": []
   },
   "outputs": [
    {
     "data": {
      "text/plain": [
       "<Axes: xlabel='self_employed', ylabel='count'>"
      ]
     },
     "execution_count": 33,
     "metadata": {},
     "output_type": "execute_result"
    },
    {
     "data": {
      "image/png": "[encoded data removed]",
      "text/plain": [
       "<Figure size 640x480 with 1 Axes>"
      ]
     },
     "metadata": {},
     "output_type": "display_data"
    }
   ],
   "source": [
    "sns.countplot(x='self_employed', hue='loan_status', data=data)"
   ]
  },
  {
   "cell_type": "code",
   "execution_count": 34,
   "id": "25b1654a",
   "metadata": {
    "execution": {
     "iopub.execute_input": "2024-12-09T18:09:12.637314Z",
     "iopub.status.busy": "2024-12-09T18:09:12.636792Z",
     "iopub.status.idle": "2024-12-09T18:09:12.896840Z",
     "shell.execute_reply": "2024-12-09T18:09:12.895396Z"
    },
    "papermill": {
     "duration": 0.282782,
     "end_time": "2024-12-09T18:09:12.899784",
     "exception": false,
     "start_time": "2024-12-09T18:09:12.617002",
     "status": "completed"
    },
    "tags": []
   },
   "outputs": [
    {
     "data": {
      "text/plain": [
       "<Axes: xlabel='education_ Graduate', ylabel='count'>"
      ]
     },
     "execution_count": 34,
     "metadata": {},
     "output_type": "execute_result"
    },
    {
     "data": {
      "image/png": "[encoded data removed]",
      "text/plain": [
       "<Figure size 640x480 with 1 Axes>"
      ]
     },
     "metadata": {},
     "output_type": "display_data"
    }
   ],
   "source": [
    "sns.countplot(x='education_ Graduate', hue='loan_status', data=data)"
   ]
  },
  {
   "cell_type": "code",
   "execution_count": 35,
   "id": "12d2eac1",
   "metadata": {
    "execution": {
     "iopub.execute_input": "2024-12-09T18:09:12.935538Z",
     "iopub.status.busy": "2024-12-09T18:09:12.935121Z",
     "iopub.status.idle": "2024-12-09T18:09:13.283439Z",
     "shell.execute_reply": "2024-12-09T18:09:13.281890Z"
    },
    "papermill": {
     "duration": 0.369705,
     "end_time": "2024-12-09T18:09:13.286115",
     "exception": false,
     "start_time": "2024-12-09T18:09:12.916410",
     "status": "completed"
    },
    "tags": []
   },
   "outputs": [
    {
     "data": {
      "text/plain": [
       "<Axes: xlabel='loan_term', ylabel='count'>"
      ]
     },
     "execution_count": 35,
     "metadata": {},
     "output_type": "execute_result"
    },
    {
     "data": {
      "image/png": "[encoded data removed]",
      "text/plain": [
       "<Figure size 640x480 with 1 Axes>"
      ]
     },
     "metadata": {},
     "output_type": "display_data"
    }
   ],
   "source": [
    "sns.countplot(x='loan_term', hue='loan_status', data=data)"
   ]
  },
  {
   "cell_type": "markdown",
   "id": "2e6e5ffc",
   "metadata": {
    "papermill": {
     "duration": 0.017408,
     "end_time": "2024-12-09T18:09:13.320809",
     "exception": false,
     "start_time": "2024-12-09T18:09:13.303401",
     "status": "completed"
    },
    "tags": []
   },
   "source": [
    "# Split the Dataset"
   ]
  },
  {
   "cell_type": "code",
   "execution_count": 36,
   "id": "9cfd19ba",
   "metadata": {
    "execution": {
     "iopub.execute_input": "2024-12-09T18:09:13.358191Z",
     "iopub.status.busy": "2024-12-09T18:09:13.357670Z",
     "iopub.status.idle": "2024-12-09T18:09:13.365736Z",
     "shell.execute_reply": "2024-12-09T18:09:13.364483Z"
    },
    "papermill": {
     "duration": 0.029123,
     "end_time": "2024-12-09T18:09:13.368149",
     "exception": false,
     "start_time": "2024-12-09T18:09:13.339026",
     "status": "completed"
    },
    "tags": []
   },
   "outputs": [],
   "source": [
    "X = data.drop(labels = ['loan_status'],axis = 1)\n",
    "Y = data['loan_status']"
   ]
  },
  {
   "cell_type": "markdown",
   "id": "57ac0a02",
   "metadata": {
    "papermill": {
     "duration": 0.016732,
     "end_time": "2024-12-09T18:09:13.401916",
     "exception": false,
     "start_time": "2024-12-09T18:09:13.385184",
     "status": "completed"
    },
    "tags": []
   },
   "source": [
    "### Standard Scalar"
   ]
  },
  {
   "cell_type": "code",
   "execution_count": 37,
   "id": "6f16c6ac",
   "metadata": {
    "execution": {
     "iopub.execute_input": "2024-12-09T18:09:13.439021Z",
     "iopub.status.busy": "2024-12-09T18:09:13.437517Z",
     "iopub.status.idle": "2024-12-09T18:09:13.450758Z",
     "shell.execute_reply": "2024-12-09T18:09:13.449503Z"
    },
    "papermill": {
     "duration": 0.034867,
     "end_time": "2024-12-09T18:09:13.453731",
     "exception": false,
     "start_time": "2024-12-09T18:09:13.418864",
     "status": "completed"
    },
    "tags": []
   },
   "outputs": [],
   "source": [
    "from sklearn.preprocessing import StandardScaler\n",
    "\n",
    "scaler = StandardScaler()\n",
    "\n",
    "scaled_data = scaler.fit_transform(X)\n",
    "\n",
    "scaled_df = pd.DataFrame(scaled_data, columns=X.columns)\n",
    "\n",
    "X = scaled_df"
   ]
  },
  {
   "cell_type": "code",
   "execution_count": 38,
   "id": "02d16b86",
   "metadata": {
    "execution": {
     "iopub.execute_input": "2024-12-09T18:09:13.489714Z",
     "iopub.status.busy": "2024-12-09T18:09:13.489281Z",
     "iopub.status.idle": "2024-12-09T18:09:13.644144Z",
     "shell.execute_reply": "2024-12-09T18:09:13.642788Z"
    },
    "papermill": {
     "duration": 0.176444,
     "end_time": "2024-12-09T18:09:13.647103",
     "exception": false,
     "start_time": "2024-12-09T18:09:13.470659",
     "status": "completed"
    },
    "tags": []
   },
   "outputs": [],
   "source": [
    "from sklearn.model_selection import train_test_split\n",
    "x_train,x_test,y_train,y_test = train_test_split(X,Y,test_size = 0.2,random_state = 42)"
   ]
  },
  {
   "cell_type": "code",
   "execution_count": 39,
   "id": "b6498af0",
   "metadata": {
    "execution": {
     "iopub.execute_input": "2024-12-09T18:09:13.683338Z",
     "iopub.status.busy": "2024-12-09T18:09:13.682866Z",
     "iopub.status.idle": "2024-12-09T18:09:13.690181Z",
     "shell.execute_reply": "2024-12-09T18:09:13.688252Z"
    },
    "papermill": {
     "duration": 0.029079,
     "end_time": "2024-12-09T18:09:13.693257",
     "exception": false,
     "start_time": "2024-12-09T18:09:13.664178",
     "status": "completed"
    },
    "tags": []
   },
   "outputs": [
    {
     "name": "stdout",
     "output_type": "stream",
     "text": [
      "(3338, 7)\n",
      "(835, 7)\n",
      "(3338,)\n",
      "(835,)\n"
     ]
    }
   ],
   "source": [
    "print(x_train.shape)\n",
    "print(x_test.shape)\n",
    "print(y_train.shape)\n",
    "print(y_test.shape)"
   ]
  },
  {
   "cell_type": "markdown",
   "id": "b64e5262",
   "metadata": {
    "papermill": {
     "duration": 0.016744,
     "end_time": "2024-12-09T18:09:13.728634",
     "exception": false,
     "start_time": "2024-12-09T18:09:13.711890",
     "status": "completed"
    },
    "tags": []
   },
   "source": [
    "# Model"
   ]
  },
  {
   "cell_type": "markdown",
   "id": "d4880fa8",
   "metadata": {
    "papermill": {
     "duration": 0.018533,
     "end_time": "2024-12-09T18:09:13.764194",
     "exception": false,
     "start_time": "2024-12-09T18:09:13.745661",
     "status": "completed"
    },
    "tags": []
   },
   "source": [
    "### Logistic Regression"
   ]
  },
  {
   "cell_type": "code",
   "execution_count": 40,
   "id": "1eeab476",
   "metadata": {
    "execution": {
     "iopub.execute_input": "2024-12-09T18:09:13.801972Z",
     "iopub.status.busy": "2024-12-09T18:09:13.801313Z",
     "iopub.status.idle": "2024-12-09T18:09:14.148233Z",
     "shell.execute_reply": "2024-12-09T18:09:14.144554Z"
    },
    "papermill": {
     "duration": 0.372033,
     "end_time": "2024-12-09T18:09:14.154011",
     "exception": false,
     "start_time": "2024-12-09T18:09:13.781978",
     "status": "completed"
    },
    "tags": []
   },
   "outputs": [
    {
     "name": "stdout",
     "output_type": "stream",
     "text": [
      "Accuracy: 91.86\n"
     ]
    }
   ],
   "source": [
    "from sklearn.linear_model import LogisticRegression\n",
    "\n",
    "lr = LogisticRegression()\n",
    "lr.fit(x_train,y_train)\n",
    "y_pred = lr.predict(x_test)\n",
    "\n",
    "from sklearn.metrics import accuracy_score\n",
    "accuracy = accuracy_score(y_test, y_pred)\n",
    "print(f\"Accuracy: {accuracy*100:.2f}\")"
   ]
  },
  {
   "cell_type": "markdown",
   "id": "4e5377c5",
   "metadata": {
    "papermill": {
     "duration": 0.053729,
     "end_time": "2024-12-09T18:09:14.257547",
     "exception": false,
     "start_time": "2024-12-09T18:09:14.203818",
     "status": "completed"
    },
    "tags": []
   },
   "source": [
    "### Decision Tree Classifier"
   ]
  },
  {
   "cell_type": "code",
   "execution_count": 41,
   "id": "975f03a2",
   "metadata": {
    "execution": {
     "iopub.execute_input": "2024-12-09T18:09:14.300311Z",
     "iopub.status.busy": "2024-12-09T18:09:14.299896Z",
     "iopub.status.idle": "2024-12-09T18:09:14.430746Z",
     "shell.execute_reply": "2024-12-09T18:09:14.428906Z"
    },
    "papermill": {
     "duration": 0.156042,
     "end_time": "2024-12-09T18:09:14.433457",
     "exception": false,
     "start_time": "2024-12-09T18:09:14.277415",
     "status": "completed"
    },
    "tags": []
   },
   "outputs": [
    {
     "name": "stdout",
     "output_type": "stream",
     "text": [
      "Accuracy: 97.37\n"
     ]
    }
   ],
   "source": [
    "from sklearn.tree import DecisionTreeClassifier\n",
    "\n",
    "model = DecisionTreeClassifier()\n",
    "model.fit(x_train, y_train)\n",
    "y_pred = model.predict(x_test)\n",
    "\n",
    "from sklearn.metrics import accuracy_score\n",
    "accuracy = accuracy_score(y_test, y_pred)\n",
    "print(f\"Accuracy: {accuracy*100:.2f}\")"
   ]
  },
  {
   "cell_type": "markdown",
   "id": "f6fa34de",
   "metadata": {
    "papermill": {
     "duration": 0.016165,
     "end_time": "2024-12-09T18:09:14.466849",
     "exception": false,
     "start_time": "2024-12-09T18:09:14.450684",
     "status": "completed"
    },
    "tags": []
   },
   "source": [
    "### Random Forest Regressor"
   ]
  },
  {
   "cell_type": "code",
   "execution_count": 42,
   "id": "00f233da",
   "metadata": {
    "execution": {
     "iopub.execute_input": "2024-12-09T18:09:14.502428Z",
     "iopub.status.busy": "2024-12-09T18:09:14.501928Z",
     "iopub.status.idle": "2024-12-09T18:09:18.151165Z",
     "shell.execute_reply": "2024-12-09T18:09:18.149651Z"
    },
    "papermill": {
     "duration": 3.671314,
     "end_time": "2024-12-09T18:09:18.154587",
     "exception": false,
     "start_time": "2024-12-09T18:09:14.483273",
     "status": "completed"
    },
    "tags": []
   },
   "outputs": [
    {
     "name": "stdout",
     "output_type": "stream",
     "text": [
      "Accuracy: 97.13\n"
     ]
    }
   ],
   "source": [
    "from sklearn.ensemble import RandomForestClassifier\n",
    "\n",
    "model = RandomForestClassifier(n_estimators=1000)\n",
    "model.fit(x_train, y_train)\n",
    "y_pred = model.predict(x_test)\n",
    "\n",
    "from sklearn.metrics import accuracy_score\n",
    "accuracy = accuracy_score(y_test, y_pred)\n",
    "print(f\"Accuracy: {accuracy*100:.2f}\")"
   ]
  },
  {
   "cell_type": "markdown",
   "id": "6573cd9b",
   "metadata": {
    "papermill": {
     "duration": 0.017483,
     "end_time": "2024-12-09T18:09:18.190703",
     "exception": false,
     "start_time": "2024-12-09T18:09:18.173220",
     "status": "completed"
    },
    "tags": []
   },
   "source": [
    "### Support Vector Machine"
   ]
  },
  {
   "cell_type": "code",
   "execution_count": 43,
   "id": "26c263dc",
   "metadata": {
    "execution": {
     "iopub.execute_input": "2024-12-09T18:09:18.229244Z",
     "iopub.status.busy": "2024-12-09T18:09:18.228785Z",
     "iopub.status.idle": "2024-12-09T18:09:18.902174Z",
     "shell.execute_reply": "2024-12-09T18:09:18.900848Z"
    },
    "papermill": {
     "duration": 0.695763,
     "end_time": "2024-12-09T18:09:18.904715",
     "exception": false,
     "start_time": "2024-12-09T18:09:18.208952",
     "status": "completed"
    },
    "tags": []
   },
   "outputs": [
    {
     "name": "stdout",
     "output_type": "stream",
     "text": [
      "Accuracy: 95.57\n"
     ]
    }
   ],
   "source": [
    "from sklearn.svm import SVC\n",
    "\n",
    "model = SVC(probability=True)\n",
    "model.fit(x_train, y_train)\n",
    "y_pred = model.predict(x_test)\n",
    "\n",
    "\n",
    "from sklearn.metrics import accuracy_score\n",
    "accuracy = accuracy_score(y_test, y_pred)\n",
    "print(f\"Accuracy: {accuracy*100:.2f}\")"
   ]
  },
  {
   "cell_type": "markdown",
   "id": "90cf6747",
   "metadata": {
    "papermill": {
     "duration": 0.017816,
     "end_time": "2024-12-09T18:09:18.940617",
     "exception": false,
     "start_time": "2024-12-09T18:09:18.922801",
     "status": "completed"
    },
    "tags": []
   },
   "source": [
    "### K Neighbors Classifier"
   ]
  },
  {
   "cell_type": "code",
   "execution_count": 44,
   "id": "b98e71b4",
   "metadata": {
    "execution": {
     "iopub.execute_input": "2024-12-09T18:09:18.979136Z",
     "iopub.status.busy": "2024-12-09T18:09:18.978715Z",
     "iopub.status.idle": "2024-12-09T18:09:19.044868Z",
     "shell.execute_reply": "2024-12-09T18:09:19.043672Z"
    },
    "papermill": {
     "duration": 0.089537,
     "end_time": "2024-12-09T18:09:19.047810",
     "exception": false,
     "start_time": "2024-12-09T18:09:18.958273",
     "status": "completed"
    },
    "tags": []
   },
   "outputs": [
    {
     "name": "stdout",
     "output_type": "stream",
     "text": [
      "Accuracy: 92.81\n"
     ]
    }
   ],
   "source": [
    "from sklearn.neighbors import KNeighborsClassifier\n",
    "\n",
    "model = KNeighborsClassifier()\n",
    "model.fit(x_train, y_train)\n",
    "y_pred = model.predict(x_test)\n",
    "\n",
    "from sklearn.metrics import accuracy_score\n",
    "accuracy = accuracy_score(y_test, y_pred)\n",
    "print(f\"Accuracy: {accuracy*100:.2f}\")"
   ]
  },
  {
   "cell_type": "markdown",
   "id": "a8dddf6f",
   "metadata": {
    "papermill": {
     "duration": 0.016899,
     "end_time": "2024-12-09T18:09:19.081932",
     "exception": false,
     "start_time": "2024-12-09T18:09:19.065033",
     "status": "completed"
    },
    "tags": []
   },
   "source": [
    "### GaussianNB"
   ]
  },
  {
   "cell_type": "code",
   "execution_count": 45,
   "id": "e926e809",
   "metadata": {
    "execution": {
     "iopub.execute_input": "2024-12-09T18:09:19.121472Z",
     "iopub.status.busy": "2024-12-09T18:09:19.121019Z",
     "iopub.status.idle": "2024-12-09T18:09:19.137694Z",
     "shell.execute_reply": "2024-12-09T18:09:19.136185Z"
    },
    "papermill": {
     "duration": 0.040187,
     "end_time": "2024-12-09T18:09:19.140691",
     "exception": false,
     "start_time": "2024-12-09T18:09:19.100504",
     "status": "completed"
    },
    "tags": []
   },
   "outputs": [
    {
     "name": "stdout",
     "output_type": "stream",
     "text": [
      "Accuracy: 93.77\n"
     ]
    }
   ],
   "source": [
    "from sklearn.naive_bayes import GaussianNB\n",
    "\n",
    "\n",
    "model = GaussianNB()\n",
    "model.fit(x_train, y_train)\n",
    "y_pred = model.predict(x_test)\n",
    "\n",
    "from sklearn.metrics import accuracy_score\n",
    "accuracy = accuracy_score(y_test, y_pred)\n",
    "print(f\"Accuracy: {accuracy*100:.2f}\")"
   ]
  }
 ],
 "metadata": {
  "kaggle": {
   "accelerator": "none",
   "dataSources": [
    {
     "datasetId": 3523739,
     "sourceId": 6144787,
     "sourceType": "datasetVersion"
    }
   ],
   "dockerImageVersionId": 30804,
   "isGpuEnabled": false,
   "isInternetEnabled": false,
   "language": "python",
   "sourceType": "notebook"
  },
  "kernelspec": {
   "display_name": "Python 3",
   "language": "python",
   "name": "python3"
  },
  "language_info": {
   "codemirror_mode": {
    "name": "ipython",
    "version": 3
   },
   "file_extension": ".py",
   "mimetype": "text/x-python",
   "name": "python",
   "nbconvert_exporter": "python",
   "pygments_lexer": "ipython3",
   "version": "3.10.14"
  },
  "papermill": {
   "default_parameters": {},
   "duration": 17.790212,
   "end_time": "2024-12-09T18:09:20.285651",
   "environment_variables": {},
   "exception": null,
   "input_path": "__notebook__.ipynb",
   "output_path": "__notebook__.ipynb",
   "parameters": {},
   "start_time": "2024-12-09T18:09:02.495439",
   "version": "2.6.0"
  }
 },
 "nbformat": 4,
 "nbformat_minor": 5
}
